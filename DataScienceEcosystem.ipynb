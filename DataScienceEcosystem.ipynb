{
 "cells": [
  {
   "cell_type": "markdown",
   "id": "9d4deb49-f15d-494e-b944-85ab548a6523",
   "metadata": {},
   "source": [
    "# Data Science Tools and Ecosystem"
   ]
  },
  {
   "cell_type": "markdown",
   "id": "fb6e65a7-3b63-4151-bf32-34f37e7c5c9c",
   "metadata": {},
   "source": [
    "In this notebook, Data Science Tools and Ecosystem are summarized."
   ]
  },
  {
   "cell_type": "markdown",
   "id": "bab49eab-c1f7-4c6f-9e36-dafc2e49d14d",
   "metadata": {},
   "source": [
    "**Objectives:**\n",
    "- Python\n",
    "- R\n",
    "- C++\n",
    "- Matlab\n",
    "- java"
   ]
  },
  {
   "cell_type": "markdown",
   "id": "574cd34e-4465-40df-b030-8165b6e9e6ad",
   "metadata": {},
   "source": [
    "Some of the popular languages that Data Scientists use are:\n",
    "1. Python\n",
    "2. C++\n",
    "3. SQL"
   ]
  },
  {
   "cell_type": "markdown",
   "id": "37a748e5-63c1-4d94-9c12-8ac4ee919da6",
   "metadata": {},
   "source": [
    "Some of the commonly used libraries used by Data Scientists include:\n",
    "1. Matplotlib\n",
    "2. Tensor flow\n",
    "3. Pandas"
   ]
  },
  {
   "cell_type": "markdown",
   "id": "b0d0fcc2-75e9-4f1a-ba78-91c44d06503c",
   "metadata": {},
   "source": [
    "***Some Common Data Science Tools***\n",
    "\n",
    "| Data Science Tools |\n",
    "|--------------------|\n",
    "| PowerBI |\n",
    "| Tableau |\n",
    "| Jupyter Notebook |\n"
   ]
  },
  {
   "cell_type": "markdown",
   "id": "41ede37b-0b90-405e-8965-e8cbaf3d0017",
   "metadata": {},
   "source": [
    "### Below are a few examples of evaluating arithmetic expressions in Python."
   ]
  },
  {
   "cell_type": "code",
   "execution_count": 1,
   "id": "915a38aa-24cc-458a-85ed-1164a8ebd9a2",
   "metadata": {},
   "outputs": [
    {
     "data": {
      "text/plain": [
       "17"
      ]
     },
     "execution_count": 1,
     "metadata": {},
     "output_type": "execute_result"
    }
   ],
   "source": [
    "#This is a simple arithetic expression to multiply then add integers\n",
    "(3*4)+5"
   ]
  },
  {
   "cell_type": "code",
   "execution_count": 4,
   "id": "b98cd315-acf0-4b51-857a-7ccab913a71f",
   "metadata": {},
   "outputs": [
    {
     "data": {
      "text/plain": [
       "3.3333333333333335"
      ]
     },
     "execution_count": 4,
     "metadata": {},
     "output_type": "execute_result"
    }
   ],
   "source": [
    "#This will convert 200 minutes to hours by diving by 60\n",
    "(200/60)"
   ]
  },
  {
   "cell_type": "markdown",
   "id": "49983095-ca9e-4e71-9558-8edf84f9265d",
   "metadata": {},
   "source": [
    "## Author:\n",
    "Brian V"
   ]
  },
  {
   "cell_type": "code",
   "execution_count": null,
   "id": "c773c0b2-d1d0-4ec0-b558-932952f4e497",
   "metadata": {},
   "outputs": [],
   "source": []
  }
 ],
 "metadata": {
  "kernelspec": {
   "display_name": "Python 3 (ipykernel)",
   "language": "python",
   "name": "python3"
  },
  "language_info": {
   "codemirror_mode": {
    "name": "ipython",
    "version": 3
   },
   "file_extension": ".py",
   "mimetype": "text/x-python",
   "name": "python",
   "nbconvert_exporter": "python",
   "pygments_lexer": "ipython3",
   "version": "3.12.8"
  }
 },
 "nbformat": 4,
 "nbformat_minor": 5
}
